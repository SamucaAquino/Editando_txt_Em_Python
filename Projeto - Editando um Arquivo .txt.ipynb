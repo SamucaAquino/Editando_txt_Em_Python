{
 "cells": [
  {
   "cell_type": "code",
   "execution_count": 30,
   "id": "509b25a2",
   "metadata": {},
   "outputs": [],
   "source": [
    "with open ('Trabalho de C.txt', 'r+') as trabalho:\n",
    "    texto = trabalho.readlines()\n",
    "    trabalho.seek(0)\n",
    "    for linha in texto:\n",
    "        if '//' not in linha:\n",
    "            trabalho.write(linha)\n",
    "        trabalho.truncate()\n",
    "    \n",
    "    trabalho.seek(0)\n",
    "    titulo = 'TRABALHO AV2\\n\\n'\n",
    "    cabecalho = 'Samuel Mesquita de Aquino - 202208614736\\nDavi de Oliveira Costa Ghiggino - 202211227039\\nEdson Giannini Ferreira - 202208614752\\n\\n'\n",
    "    trabalho.write(titulo + cabecalho)    "
   ]
  }
 ],
 "metadata": {
  "kernelspec": {
   "display_name": "Python 3 (ipykernel)",
   "language": "python",
   "name": "python3"
  },
  "language_info": {
   "codemirror_mode": {
    "name": "ipython",
    "version": 3
   },
   "file_extension": ".py",
   "mimetype": "text/x-python",
   "name": "python",
   "nbconvert_exporter": "python",
   "pygments_lexer": "ipython3",
   "version": "3.9.13"
  }
 },
 "nbformat": 4,
 "nbformat_minor": 5
}
